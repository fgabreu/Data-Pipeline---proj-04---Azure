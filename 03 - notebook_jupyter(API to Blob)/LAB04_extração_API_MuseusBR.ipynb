{
 "cells": [
  {
   "cell_type": "markdown",
   "id": "64b1833c",
   "metadata": {},
   "source": [
    "# LAB 04 - EXTRAÇÃO DAS APIs - MUSEUSBR"
   ]
  },
  {
   "cell_type": "markdown",
   "id": "4ac552e8",
   "metadata": {},
   "source": [
    "## 1- Instalação dos Pacotes"
   ]
  },
  {
   "cell_type": "code",
   "execution_count": 1,
   "id": "f80b331b",
   "metadata": {
    "scrolled": true
   },
   "outputs": [
    {
     "name": "stdout",
     "output_type": "stream",
     "text": [
      "Requirement already satisfied: azure-identity in c:\\users\\felipe\\anaconda3\\lib\\site-packages (1.10.0)\n",
      "Requirement already satisfied: msal-extensions<2.0.0,>=0.3.0 in c:\\users\\felipe\\anaconda3\\lib\\site-packages (from azure-identity) (1.0.0)\n",
      "Requirement already satisfied: msal<2.0.0,>=1.12.0 in c:\\users\\felipe\\anaconda3\\lib\\site-packages (from azure-identity) (1.18.0)\n",
      "Requirement already satisfied: cryptography>=2.5 in c:\\users\\felipe\\anaconda3\\lib\\site-packages (from azure-identity) (3.4.8)\n",
      "Requirement already satisfied: six>=1.12.0 in c:\\users\\felipe\\anaconda3\\lib\\site-packages (from azure-identity) (1.16.0)\n",
      "Requirement already satisfied: azure-core<2.0.0,>=1.11.0 in c:\\users\\felipe\\anaconda3\\lib\\site-packages (from azure-identity) (1.25.0)\n",
      "Requirement already satisfied: typing-extensions>=4.0.1 in c:\\users\\felipe\\anaconda3\\lib\\site-packages (from azure-core<2.0.0,>=1.11.0->azure-identity) (4.3.0)\n",
      "Requirement already satisfied: requests>=2.18.4 in c:\\users\\felipe\\anaconda3\\lib\\site-packages (from azure-core<2.0.0,>=1.11.0->azure-identity) (2.26.0)\n",
      "Requirement already satisfied: cffi>=1.12 in c:\\users\\felipe\\anaconda3\\lib\\site-packages (from cryptography>=2.5->azure-identity) (1.14.6)\n",
      "Requirement already satisfied: pycparser in c:\\users\\felipe\\anaconda3\\lib\\site-packages (from cffi>=1.12->cryptography>=2.5->azure-identity) (2.20)\n",
      "Requirement already satisfied: PyJWT[crypto]<3,>=1.0.0 in c:\\users\\felipe\\anaconda3\\lib\\site-packages (from msal<2.0.0,>=1.12.0->azure-identity) (2.1.0)\n",
      "Requirement already satisfied: portalocker<3,>=1.6 in c:\\users\\felipe\\anaconda3\\lib\\site-packages (from msal-extensions<2.0.0,>=0.3.0->azure-identity) (2.5.1)\n",
      "Requirement already satisfied: pywin32>=226 in c:\\users\\felipe\\anaconda3\\lib\\site-packages (from portalocker<3,>=1.6->msal-extensions<2.0.0,>=0.3.0->azure-identity) (228)\n",
      "Requirement already satisfied: charset-normalizer~=2.0.0 in c:\\users\\felipe\\anaconda3\\lib\\site-packages (from requests>=2.18.4->azure-core<2.0.0,>=1.11.0->azure-identity) (2.0.4)\n",
      "Requirement already satisfied: urllib3<1.27,>=1.21.1 in c:\\users\\felipe\\anaconda3\\lib\\site-packages (from requests>=2.18.4->azure-core<2.0.0,>=1.11.0->azure-identity) (1.26.7)\n",
      "Requirement already satisfied: certifi>=2017.4.17 in c:\\users\\felipe\\anaconda3\\lib\\site-packages (from requests>=2.18.4->azure-core<2.0.0,>=1.11.0->azure-identity) (2021.10.8)\n",
      "Requirement already satisfied: idna<4,>=2.5 in c:\\users\\felipe\\anaconda3\\lib\\site-packages (from requests>=2.18.4->azure-core<2.0.0,>=1.11.0->azure-identity) (3.2)\n",
      "Note: you may need to restart the kernel to use updated packages.\n"
     ]
    }
   ],
   "source": [
    "pip install azure-identity"
   ]
  },
  {
   "cell_type": "code",
   "execution_count": 2,
   "id": "1ebcb496",
   "metadata": {},
   "outputs": [
    {
     "name": "stdout",
     "output_type": "stream",
     "text": [
      "Requirement already satisfied: azure-storage-blob in c:\\users\\felipe\\anaconda3\\lib\\site-packages (12.13.1)Note: you may need to restart the kernel to use updated packages.\n",
      "Requirement already satisfied: cryptography>=2.1.4 in c:\\users\\felipe\\anaconda3\\lib\\site-packages (from azure-storage-blob) (3.4.8)\n",
      "\n",
      "Requirement already satisfied: msrest>=0.6.21 in c:\\users\\felipe\\anaconda3\\lib\\site-packages (from azure-storage-blob) (0.7.1)\n",
      "Requirement already satisfied: azure-core<2.0.0,>=1.23.1 in c:\\users\\felipe\\anaconda3\\lib\\site-packages (from azure-storage-blob) (1.25.0)\n",
      "Requirement already satisfied: six>=1.11.0 in c:\\users\\felipe\\anaconda3\\lib\\site-packages (from azure-core<2.0.0,>=1.23.1->azure-storage-blob) (1.16.0)\n",
      "Requirement already satisfied: typing-extensions>=4.0.1 in c:\\users\\felipe\\anaconda3\\lib\\site-packages (from azure-core<2.0.0,>=1.23.1->azure-storage-blob) (4.3.0)\n",
      "Requirement already satisfied: requests>=2.18.4 in c:\\users\\felipe\\anaconda3\\lib\\site-packages (from azure-core<2.0.0,>=1.23.1->azure-storage-blob) (2.26.0)\n",
      "Requirement already satisfied: cffi>=1.12 in c:\\users\\felipe\\anaconda3\\lib\\site-packages (from cryptography>=2.1.4->azure-storage-blob) (1.14.6)\n",
      "Requirement already satisfied: pycparser in c:\\users\\felipe\\anaconda3\\lib\\site-packages (from cffi>=1.12->cryptography>=2.1.4->azure-storage-blob) (2.20)\n",
      "Requirement already satisfied: requests-oauthlib>=0.5.0 in c:\\users\\felipe\\anaconda3\\lib\\site-packages (from msrest>=0.6.21->azure-storage-blob) (1.3.1)\n",
      "Requirement already satisfied: certifi>=2017.4.17 in c:\\users\\felipe\\anaconda3\\lib\\site-packages (from msrest>=0.6.21->azure-storage-blob) (2021.10.8)\n",
      "Requirement already satisfied: isodate>=0.6.0 in c:\\users\\felipe\\anaconda3\\lib\\site-packages (from msrest>=0.6.21->azure-storage-blob) (0.6.1)\n",
      "Requirement already satisfied: idna<4,>=2.5 in c:\\users\\felipe\\anaconda3\\lib\\site-packages (from requests>=2.18.4->azure-core<2.0.0,>=1.23.1->azure-storage-blob) (3.2)\n",
      "Requirement already satisfied: urllib3<1.27,>=1.21.1 in c:\\users\\felipe\\anaconda3\\lib\\site-packages (from requests>=2.18.4->azure-core<2.0.0,>=1.23.1->azure-storage-blob) (1.26.7)\n",
      "Requirement already satisfied: charset-normalizer~=2.0.0 in c:\\users\\felipe\\anaconda3\\lib\\site-packages (from requests>=2.18.4->azure-core<2.0.0,>=1.23.1->azure-storage-blob) (2.0.4)\n",
      "Requirement already satisfied: oauthlib>=3.0.0 in c:\\users\\felipe\\anaconda3\\lib\\site-packages (from requests-oauthlib>=0.5.0->msrest>=0.6.21->azure-storage-blob) (3.2.0)\n"
     ]
    }
   ],
   "source": [
    "pip install azure-storage-blob"
   ]
  },
  {
   "cell_type": "markdown",
   "id": "788b1926",
   "metadata": {},
   "source": [
    "## 2 - Importação das Bibliotecas"
   ]
  },
  {
   "cell_type": "code",
   "execution_count": 1,
   "id": "c7781f45",
   "metadata": {},
   "outputs": [],
   "source": [
    "# Importando as bibliotecas\n",
    "import pandas as pd\n",
    "import json\n",
    "import requests\n",
    "from azure.storage.blob import BlobServiceClient, BlobClient\n",
    "from azure.identity import DefaultAzureCredential"
   ]
  },
  {
   "cell_type": "markdown",
   "id": "1a8bab36",
   "metadata": {},
   "source": [
    "## 3 - Importando as APIs"
   ]
  },
  {
   "cell_type": "code",
   "execution_count": 15,
   "id": "b4bc4014",
   "metadata": {},
   "outputs": [],
   "source": [
    "# Importando as APIs \n",
    "space = requests.get(\"http://museus.cultura.gov.br/api/space/find?@select=id,location,name,public,shortDescription,createTimesstamp,status,timezone_type,timezone,owner,endereco,En_Complemento,geoSetor_censitario,geoMicrorregiao,geoMunicipio,geoEstado,geoMesorregiao,En_CEP,En_Nome_Logradouro,En_Num,En_Complemento,En_Bairro,En_Municipio,En_Estado,esfera,esfera_tipo,type,acessibilidade,esfera,esfera_tipo,site,facebook,twitter,instagram,telefonePublico,capacidade,terms\").text\n",
    "event = requests.get(\"http://museus.cultura.gov.br/api/event/find?@select=*\").text\n",
    "occurrences = requests.get(\"http://museus.cultura.gov.br/api/event/find?@select=occurrences.*\").text"
   ]
  },
  {
   "cell_type": "markdown",
   "id": "da21f5ef",
   "metadata": {},
   "source": [
    "## 4 - Enviando os arquivos para o blob no Azure"
   ]
  },
  {
   "cell_type": "code",
   "execution_count": 18,
   "id": "31082c8e",
   "metadata": {},
   "outputs": [],
   "source": [
    "# Enviando os arquivos json para o blob\n",
    "\n",
    "def uploadBlob(df,name):\n",
    "    blob_name= f\"Lab04/{name}.json\"\n",
    "    container_name = \"felipe-abreu\"\n",
    "    token_credential = DefaultAzureCredential()\n",
    "    \n",
    "    blob_service_client = BlobServiceClient(\n",
    "        account_url=\"https://stgestudos.blob.core.windows.net/felipe-abreu\",\n",
    "        credential=token_credential)\n",
    "    \n",
    "    string =\"DefaultEndpointsProtocol=https;AccountName=stgestudos;AccountKey=Ag+nPeB+Q89+FSjRWj7OvZRdVhLX35xkz7u3WUGasvQLG/zm3WvuU4xi+5+uYenN01vn5OQlsJToZ1RV/H2LvQ==;EndpointSuffix=core.windows.net\"\n",
    "    \n",
    "    blob = BlobClient.from_connection_string(conn_str=string, container_name=container_name, blob_name=blob_name)\n",
    "    blob.upload_blob(df, overwrite=True)\n",
    "    \n",
    "    print(\"File Uploaded\")\n",
    "    "
   ]
  },
  {
   "cell_type": "code",
   "execution_count": 19,
   "id": "01fc07e7",
   "metadata": {},
   "outputs": [
    {
     "name": "stdout",
     "output_type": "stream",
     "text": [
      "File Uploaded\n",
      "File Uploaded\n",
      "File Uploaded\n"
     ]
    }
   ],
   "source": [
    "uploadBlob(space,\"space\")\n",
    "uploadBlob(event,\"event\")\n",
    "uploadBlob(occurrences,\"occurrences\")"
   ]
  },
  {
   "cell_type": "code",
   "execution_count": null,
   "id": "bafd12f0",
   "metadata": {},
   "outputs": [],
   "source": []
  }
 ],
 "metadata": {
  "kernelspec": {
   "display_name": "Python 3 (ipykernel)",
   "language": "python",
   "name": "python3"
  },
  "language_info": {
   "codemirror_mode": {
    "name": "ipython",
    "version": 3
   },
   "file_extension": ".py",
   "mimetype": "text/x-python",
   "name": "python",
   "nbconvert_exporter": "python",
   "pygments_lexer": "ipython3",
   "version": "3.9.7"
  }
 },
 "nbformat": 4,
 "nbformat_minor": 5
}
